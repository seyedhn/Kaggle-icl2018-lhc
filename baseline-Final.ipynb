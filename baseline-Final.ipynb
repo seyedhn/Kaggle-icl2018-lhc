{
 "cells": [
  {
   "cell_type": "markdown",
   "metadata": {},
   "source": [
    "# !Link to challenge!"
   ]
  },
  {
   "cell_type": "markdown",
   "metadata": {},
   "source": [
    "# https://www.kaggle.com/t/4cab4f6367c44d1a9a8a9769d8e36e57"
   ]
  },
  {
   "cell_type": "markdown",
   "metadata": {},
   "source": [
    "# Set CUDA variables"
   ]
  },
  {
   "cell_type": "code",
   "execution_count": 120,
   "metadata": {},
   "outputs": [
    {
     "name": "stdout",
     "output_type": "stream",
     "text": [
      "^C\r\n"
     ]
    }
   ],
   "source": []
  },
  {
   "cell_type": "code",
   "execution_count": 8,
   "metadata": {},
   "outputs": [
    {
     "name": "stdout",
     "output_type": "stream",
     "text": [
      "env: CUDA_VISIBLE_DEVICES=0\n",
      "env: LIBRARY_PATH=/usr/local/cuda/lib64\n"
     ]
    }
   ],
   "source": [
    "%env CUDA_VISIBLE_DEVICES=0\n",
    "%env LIBRARY_PATH=/usr/local/cuda/lib64\n",
    "import sys"
   ]
  },
  {
   "cell_type": "code",
   "execution_count": 1,
   "metadata": {},
   "outputs": [
    {
     "name": "stdout",
     "output_type": "stream",
     "text": [
      "Wed Jan 31 16:40:36 2018       \n",
      "+-----------------------------------------------------------------------------+\n",
      "| NVIDIA-SMI 367.48                 Driver Version: 367.48                    |\n",
      "|-------------------------------+----------------------+----------------------+\n",
      "| GPU  Name        Persistence-M| Bus-Id        Disp.A | Volatile Uncorr. ECC |\n",
      "| Fan  Temp  Perf  Pwr:Usage/Cap|         Memory-Usage | GPU-Util  Compute M. |\n",
      "|===============================+======================+======================|\n",
      "|   0  Tesla K80           Off  | 6713:00:00.0     Off |                    0 |\n",
      "| N/A   64C    P0   114W / 149W |   6730MiB / 11439MiB |     95%      Default |\n",
      "+-------------------------------+----------------------+----------------------+\n",
      "|   1  Tesla K80           Off  | 7AEC:00:00.0     Off |                    0 |\n",
      "| N/A   83C    P0    76W / 149W |   6731MiB / 11439MiB |      0%      Default |\n",
      "+-------------------------------+----------------------+----------------------+\n",
      "|   2  Tesla K80           Off  | 8CA6:00:00.0     Off |                    0 |\n",
      "| N/A   76C    P0    88W / 149W |   1891MiB / 11439MiB |     39%      Default |\n",
      "+-------------------------------+----------------------+----------------------+\n",
      "|   3  Tesla K80           Off  | 9F97:00:00.0     Off |                    0 |\n",
      "| N/A   54C    P0    72W / 149W |  11435MiB / 11439MiB |      0%      Default |\n",
      "+-------------------------------+----------------------+----------------------+\n",
      "                                                                               \n",
      "+-----------------------------------------------------------------------------+\n",
      "| Processes:                                                       GPU Memory |\n",
      "|  GPU       PID  Type  Process name                               Usage      |\n",
      "|=============================================================================|\n",
      "|    0     54518    C   /opt/conda/anaconda3/bin/python               6728MiB |\n",
      "|    1     52651    C   /opt/conda/anaconda3/bin/python               6729MiB |\n",
      "|    2     26144    C   /opt/conda/anaconda3/bin/python                495MiB |\n",
      "|    2     52608    C   /opt/conda/anaconda3/bin/python                479MiB |\n",
      "|    2     52711    C   /opt/conda/anaconda3/bin/python                910MiB |\n",
      "|    3     29538    C   /opt/conda/anaconda3/bin/python               2554MiB |\n",
      "|    3     41247    C   /opt/conda/anaconda3/bin/python               7324MiB |\n",
      "|    3     98627    C   /opt/conda/anaconda3/bin/python               1553MiB |\n",
      "+-----------------------------------------------------------------------------+\n"
     ]
    }
   ],
   "source": [
    "!nvidia-smi"
   ]
  },
  {
   "cell_type": "markdown",
   "metadata": {},
   "source": [
    "### import standard packages"
   ]
  },
  {
   "cell_type": "code",
   "execution_count": 2,
   "metadata": {
    "collapsed": true
   },
   "outputs": [],
   "source": [
    "import numpy as np\n",
    "import pickle\n",
    "import os\n",
    "import matplotlib.pyplot as plt\n",
    "%matplotlib inline\n",
    "import scipy\n",
    "from sklearn.metrics import accuracy_score\n",
    "from sklearn.metrics import roc_auc_score"
   ]
  },
  {
   "cell_type": "markdown",
   "metadata": {},
   "source": [
    "## import torch and h5 data format parser"
   ]
  },
  {
   "cell_type": "code",
   "execution_count": 3,
   "metadata": {
    "collapsed": true
   },
   "outputs": [],
   "source": [
    "import h5py\n",
    "import torch"
   ]
  },
  {
   "cell_type": "markdown",
   "metadata": {},
   "source": [
    "## Read data function.\n",
    "\n",
    "- with nb_events you can choose how many examples you want to download.\n",
    "- np.rollaxis(hit_map, 3, 1) change the axis order to put channels first. This is the format of pytorch framework.\n",
    "- (hit_map - hit_map.mean ...  All examples are being standartized: substracted a mean and divided by std. deviation. This is done for each channels separatly."
   ]
  },
  {
   "cell_type": "code",
   "execution_count": 4,
   "metadata": {
    "collapsed": true
   },
   "outputs": [],
   "source": [
    "train = h5py.File('/data/ICL2018_kaggle_2/kaggle_train.h5', 'r')\n",
    "test = h5py.File('/data/ICL2018_kaggle_2/kaggle_test.h5', 'r')"
   ]
  },
  {
   "cell_type": "code",
   "execution_count": 5,
   "metadata": {},
   "outputs": [
    {
     "name": "stdout",
     "output_type": "stream",
     "text": [
      "(412416, 64, 64)\n",
      "(137471, 64, 64)\n"
     ]
    }
   ],
   "source": [
    "print(train['all_events']['histHCAL'].shape)\n",
    "print(test['all_events']['histHCAL'].shape)"
   ]
  },
  {
   "cell_type": "code",
   "execution_count": 6,
   "metadata": {
    "collapsed": true
   },
   "outputs": [],
   "source": [
    "def read_data(data, is_train=True, nb_events=None):\n",
    "    layer_hcal = np.expand_dims(data['all_events']['histHCAL'][:nb_events], -1)\n",
    "    layer_em = np.expand_dims(data['all_events']['histEM'][:nb_events], -1)\n",
    "    layer_track = np.expand_dims(data['all_events']['histtrack'][:nb_events], -1)\n",
    "    \n",
    "    hit_map = np.concatenate((layer_hcal, layer_em, layer_track), axis=-1)\n",
    "    hit_map = np.rollaxis(hit_map, 3, 1)\n",
    "    hit_map = (hit_map - hit_map.mean(axis=0, keepdims=True)) / hit_map.std(axis=0, keepdims=True)\n",
    "    answers = None\n",
    "    if is_train:\n",
    "        answers = np.expand_dims(data['all_events']['y'][:nb_events], -1)\n",
    "    return hit_map, answers"
   ]
  },
  {
   "cell_type": "code",
   "execution_count": null,
   "metadata": {
    "collapsed": true
   },
   "outputs": [],
   "source": [
    "X_train, y_train = read_data(train, is_train=True, nb_events=200000)\n",
    "assert (X_train.shape[0] == y_train.shape[0])\n",
    "print(X_train.shape)"
   ]
  },
  {
   "cell_type": "code",
   "execution_count": 48,
   "metadata": {
    "collapsed": true
   },
   "outputs": [],
   "source": [
    "X_test = None\n",
    "X_train = None\n",
    "y_train = None\n",
    "X_val = None\n",
    "y_val = None\n",
    "y_pred = None\n",
    "y_predicted = None"
   ]
  },
  {
   "cell_type": "code",
   "execution_count": 8,
   "metadata": {},
   "outputs": [
    {
     "ename": "NameError",
     "evalue": "name 'y_train' is not defined",
     "output_type": "error",
     "traceback": [
      "\u001b[0;31m---------------------------------------------------------------------------\u001b[0m",
      "\u001b[0;31mNameError\u001b[0m                                 Traceback (most recent call last)",
      "\u001b[0;32m<ipython-input-8-be083aeaef86>\u001b[0m in \u001b[0;36m<module>\u001b[0;34m()\u001b[0m\n\u001b[1;32m      1\u001b[0m \u001b[0;31m#print(y_train.shape)\u001b[0m\u001b[0;34m\u001b[0m\u001b[0;34m\u001b[0m\u001b[0m\n\u001b[0;32m----> 2\u001b[0;31m \u001b[0mprint\u001b[0m\u001b[0;34m(\u001b[0m\u001b[0my_train\u001b[0m\u001b[0;34m[\u001b[0m\u001b[0;36m5\u001b[0m\u001b[0;34m]\u001b[0m\u001b[0;34m)\u001b[0m\u001b[0;34m\u001b[0m\u001b[0m\n\u001b[0m",
      "\u001b[0;31mNameError\u001b[0m: name 'y_train' is not defined"
     ]
    }
   ],
   "source": [
    "#print(y_train.shape)\n",
    "print(y_train[5])"
   ]
  },
  {
   "cell_type": "code",
   "execution_count": 10,
   "metadata": {},
   "outputs": [
    {
     "data": {
      "image/png": "[encoded data removed]",
      "text/plain": [
       "<matplotlib.figure.Figure at 0x7fce939d9438>"
      ]
     },
     "metadata": {},
     "output_type": "display_data"
    }
   ],
   "source": [
    "f, ax = plt.subplots(1,3,figsize=(14,6))\n",
    "for i in range(3):\n",
    "    ax[i].imshow(X_train[100,i,:,:], cmap=\"Reds\")"
   ]
  },
  {
   "cell_type": "markdown",
   "metadata": {},
   "source": [
    "### As usual split the train data to train and validation samples."
   ]
  },
  {
   "cell_type": "code",
   "execution_count": 9,
   "metadata": {
    "collapsed": true
   },
   "outputs": [],
   "source": [
    "#from sklearn.cross_validation import train_test_split\n",
    "from sklearn.model_selection import train_test_split\n",
    "X_train, X_val, y_train, y_val = train_test_split(X_train, y_train, train_size=0.95, random_state=42)"
   ]
  },
  {
   "cell_type": "markdown",
   "metadata": {},
   "source": [
    "## The next steps are exactly the same as was on cifar seminar to Tuesday"
   ]
  },
  {
   "cell_type": "code",
   "execution_count": 12,
   "metadata": {
    "collapsed": true
   },
   "outputs": [],
   "source": [
    "from torch import nn\n",
    "import torch.nn.functional as F\n",
    "from torch.autograd import Variable\n",
    "\n",
    "class Flatten(nn.Module):\n",
    "    def forward(self, input):\n",
    "        return input.view(input.size(0), -1)"
   ]
  },
  {
   "cell_type": "markdown",
   "metadata": {},
   "source": [
    "### This is dummy example of CNN, look what you can change here(HINT: look at cifar seminar cheatsheet)"
   ]
  },
  {
   "cell_type": "code",
   "execution_count": 12,
   "metadata": {},
   "outputs": [
    {
     "data": {
      "text/plain": [
       "Sequential(\n",
       "  (maxpool_1): MaxPool2d(kernel_size=(2, 2), stride=(2, 2), dilation=(1, 1))\n",
       "  (conv_1): Conv2d (3, 32, kernel_size=(5, 5), stride=(1, 1))\n",
       "  (maxpool_2): MaxPool2d(kernel_size=(2, 2), stride=(2, 2), dilation=(1, 1))\n",
       "  (relu_1): ReLU()\n",
       "  (flat): Flatten(\n",
       "  )\n",
       "  (fc1): Linear(in_features=6272, out_features=128)\n",
       "  (relu_2): ReLU()\n",
       "  (fc2): Linear(in_features=128, out_features=1)\n",
       "  (sigmoid): Sigmoid()\n",
       ")"
      ]
     },
     "execution_count": 12,
     "metadata": {},
     "output_type": "execute_result"
    }
   ],
   "source": [
    "model = torch.nn.Sequential()\n",
    "model.add_module(\"maxpool_1\", torch.nn.MaxPool2d(kernel_size=2))\n",
    "model.add_module('conv_1', nn.Conv2d(3, 32, kernel_size=(5,5), stride=1, padding=0))\n",
    "model.add_module(\"maxpool_2\", torch.nn.MaxPool2d(kernel_size=2))\n",
    "model.add_module(\"relu_1\", torch.nn.ReLU())\n",
    "\n",
    "model.add_module(\"flat\", Flatten())\n",
    "\n",
    "model.add_module(\"fc1\", torch.nn.Linear(6272, 128))\n",
    "model.add_module(\"relu_2\", torch.nn.ReLU())\n",
    "model.add_module(\"fc2\", torch.nn.Linear(128, 1))\n",
    "model.add_module(\"sigmoid\", torch.nn.Sigmoid())\n",
    "\n",
    "model"
   ]
  },
  {
   "cell_type": "code",
   "execution_count": null,
   "metadata": {
    "collapsed": true
   },
   "outputs": [],
   "source": []
  },
  {
   "cell_type": "code",
   "execution_count": null,
   "metadata": {
    "collapsed": true
   },
   "outputs": [],
   "source": []
  },
  {
   "cell_type": "code",
   "execution_count": 11,
   "metadata": {},
   "outputs": [
    {
     "data": {
      "text/plain": [
       "Sequential (\n",
       "  (conv_1): Conv2d(3, 64, kernel_size=(4, 4), stride=(1, 1))\n",
       "  (batchnorm_1): BatchNorm2d(64, eps=1e-05, momentum=0.1, affine=True)\n",
       "  (dropout_1): Dropout2d (p=0.1)\n",
       "  (relu_1): ReLU ()\n",
       "  (maxpool_1): MaxPool2d (size=(2, 2), stride=(2, 2), dilation=(1, 1))\n",
       "  (conv_2): Conv2d(64, 32, kernel_size=(4, 4), stride=(1, 1))\n",
       "  (batchnorm_2): BatchNorm2d(32, eps=1e-05, momentum=0.1, affine=True)\n",
       "  (relu_2): ReLU ()\n",
       "  (maxpool_2): MaxPool2d (size=(2, 2), stride=(2, 2), dilation=(1, 1))\n",
       "  (flat): Flatten (\n",
       "  )\n",
       "  (fc1): Linear (5408 -> 128)\n",
       "  (relu_3): ReLU ()\n",
       "  (fc2): Linear (128 -> 1)\n",
       "  (sigmoid): Sigmoid ()\n",
       ")"
      ]
     },
     "execution_count": 11,
     "metadata": {},
     "output_type": "execute_result"
    }
   ],
   "source": [
    "model = torch.nn.Sequential()\n",
    "#model.add_module(\"maxpool_11\", torch.nn.MaxPool2d(kernel_size=2))\n",
    "model.add_module('conv_1', nn.Conv2d(3, 64, kernel_size=(4,4), stride=1, padding=0))\n",
    "model.add_module('batchnorm_1', nn.BatchNorm2d(64))\n",
    "model.add_module('dropout_1', nn.Dropout2d(p=0.1, inplace=False))\n",
    "model.add_module(\"relu_1\", nn.ReLU())\n",
    "model.add_module(\"maxpool_1\", nn.MaxPool2d(kernel_size=2))\n",
    "\n",
    "model.add_module('conv_2', nn.Conv2d(64, 32, kernel_size=(4,4), stride=1, padding=0))\n",
    "model.add_module('batchnorm_2', nn.BatchNorm2d(32))\n",
    "model.add_module(\"relu_2\", nn.ReLU())\n",
    "model.add_module(\"maxpool_2\", nn.MaxPool2d(kernel_size=2))\n",
    "\n",
    "\n",
    "model.add_module(\"flat\", Flatten())\n",
    "\n",
    "model.add_module(\"fc1\", nn.Linear(5408, 128))\n",
    "model.add_module(\"relu_3\", nn.ReLU())\n",
    "model.add_module(\"fc2\", nn.Linear(128, 1))\n",
    "model.add_module(\"sigmoid\", nn.Sigmoid())\n",
    "\n",
    "model.cuda(0)"
   ]
  },
  {
   "cell_type": "code",
   "execution_count": null,
   "metadata": {
    "collapsed": true
   },
   "outputs": [],
   "source": []
  },
  {
   "cell_type": "code",
   "execution_count": 12,
   "metadata": {},
   "outputs": [
    {
     "data": {
      "text/plain": [
       "Sequential (\n",
       "  (conv_1): Conv2d(3, 64, kernel_size=(3, 3), stride=(1, 1))\n",
       "  (batchnorm_1): BatchNorm2d(64, eps=1e-05, momentum=0.1, affine=True)\n",
       "  (dropout_1): Dropout2d (p=0.1)\n",
       "  (relu_1): ReLU ()\n",
       "  (maxpool_1): MaxPool2d (size=(2, 2), stride=(2, 2), dilation=(1, 1))\n",
       "  (conv_2): Conv2d(64, 48, kernel_size=(3, 3), stride=(1, 1))\n",
       "  (batchnorm_2): BatchNorm2d(48, eps=1e-05, momentum=0.1, affine=True)\n",
       "  (dropout_2): Dropout2d (p=0.1)\n",
       "  (relu_2): ReLU ()\n",
       "  (maxpool_2): MaxPool2d (size=(2, 2), stride=(2, 2), dilation=(1, 1))\n",
       "  (conv_3): Conv2d(48, 32, kernel_size=(3, 3), stride=(1, 1))\n",
       "  (batchnorm_3): BatchNorm2d(32, eps=1e-05, momentum=0.1, affine=True)\n",
       "  (dropout_3): Dropout2d (p=0.1)\n",
       "  (relu_3): ReLU ()\n",
       "  (maxpool_3): MaxPool2d (size=(2, 2), stride=(2, 2), dilation=(1, 1))\n",
       "  (flat): Flatten (\n",
       "  )\n",
       "  (fc1): Linear (1152 -> 128)\n",
       "  (relu_4): Tanh ()\n",
       "  (fc2): Linear (128 -> 1)\n",
       "  (sigmoid): Sigmoid ()\n",
       ")"
      ]
     },
     "execution_count": 12,
     "metadata": {},
     "output_type": "execute_result"
    }
   ],
   "source": [
    "model = torch.nn.Sequential()\n",
    "#model.add_module(\"maxpool_11\", torch.nn.MaxPool2d(kernel_size=2))\n",
    "model.add_module('conv_1', nn.Conv2d(3, 64, kernel_size=(3,3), stride=1, padding=0))\n",
    "model.add_module('batchnorm_1', nn.BatchNorm2d(64))\n",
    "model.add_module('dropout_1', nn.Dropout2d(p=0.1, inplace=False))\n",
    "model.add_module(\"relu_1\", nn.ReLU())\n",
    "model.add_module(\"maxpool_1\", nn.MaxPool2d(kernel_size=2))\n",
    "\n",
    "model.add_module('conv_2', nn.Conv2d(64, 48, kernel_size=(3,3), stride=1, padding=0))\n",
    "model.add_module('batchnorm_2', nn.BatchNorm2d(48))\n",
    "model.add_module('dropout_2', nn.Dropout2d(p=0.1, inplace=False))\n",
    "model.add_module(\"relu_2\", nn.ReLU())\n",
    "model.add_module(\"maxpool_2\", nn.MaxPool2d(kernel_size=2))\n",
    "\n",
    "model.add_module('conv_3', nn.Conv2d(48, 32, kernel_size=(3,3), stride=1, padding=0))\n",
    "model.add_module('batchnorm_3', nn.BatchNorm2d(32))\n",
    "model.add_module('dropout_3', nn.Dropout2d(p=0.1, inplace=False))\n",
    "model.add_module(\"relu_3\", nn.ReLU())\n",
    "model.add_module(\"maxpool_3\", nn.MaxPool2d(kernel_size=2))\n",
    "\n",
    "\n",
    "model.add_module(\"flat\", Flatten())\n",
    "\n",
    "model.add_module(\"fc1\", nn.Linear(1152, 128))\n",
    "model.add_module(\"relu_4\", nn.Tanh())\n",
    "model.add_module(\"fc2\", nn.Linear(128, 1))\n",
    "model.add_module(\"sigmoid\", nn.Sigmoid())\n",
    "\n",
    "model.cuda(0)"
   ]
  },
  {
   "cell_type": "code",
   "execution_count": null,
   "metadata": {
    "collapsed": true
   },
   "outputs": [],
   "source": []
  },
  {
   "cell_type": "code",
   "execution_count": null,
   "metadata": {
    "collapsed": true
   },
   "outputs": [],
   "source": []
  },
  {
   "cell_type": "code",
   "execution_count": null,
   "metadata": {
    "collapsed": true
   },
   "outputs": [],
   "source": [
    "model = torch.nn.Sequential()\n",
    "#model.add_module(\"maxpool_11\", torch.nn.MaxPool2d(kernel_size=2))\n",
    "model.add_module('conv_1', nn.Conv2d(3, 64, kernel_size=(4,4), stride=1, padding=0))\n",
    "model.add_module('batchnorm_1', nn.BatchNorm2d(64))\n",
    "model.add_module('dropout_1', nn.Dropout2d(p=0.1, inplace=False))\n",
    "model.add_module(\"relu_1\", nn.ReLU())\n",
    "model.add_module(\"maxpool_1\", nn.MaxPool2d(kernel_size=2))\n",
    "\n",
    "model.add_module('conv_2', nn.Conv2d(64, 64, kernel_size=(4,4), stride=1, padding=0))\n",
    "model.add_module('batchnorm_2', nn.BatchNorm2d(64))\n",
    "#model.add_module('dropout_2', nn.Dropout2d(p=0.1, inplace=False))\n",
    "model.add_module(\"relu_2\", nn.ReLU())\n",
    "#model.add_module(\"maxpool_2\", nn.MaxPool2d(kernel_size=2))\n",
    "\n",
    "model.add_module('conv_3', nn.Conv2d(64, 32, kernel_size=(4,4), stride=1, padding=0))\n",
    "model.add_module('batchnorm_3', nn.BatchNorm2d(32))\n",
    "model.add_module('dropout_3', nn.Dropout2d(p=0.1, inplace=False))\n",
    "model.add_module(\"relu_3\", nn.ReLU())\n",
    "model.add_module(\"maxpool_3\", nn.MaxPool2d(kernel_size=2))\n",
    "\n",
    "model.add_module('conv_4', nn.Conv2d(32, 32, kernel_size=(4,4), stride=1, padding=0))\n",
    "model.add_module('batchnorm_4', nn.BatchNorm2d(32))\n",
    "#model.add_module('dropout_4', nn.Dropout2d(p=0.1, inplace=False))\n",
    "model.add_module(\"relu_4\", nn.ReLU())\n",
    "#model.add_module(\"maxpool_4\", nn.MaxPool2d(kernel_size=2))\n",
    "\n",
    "model.add_module('conv_5', nn.Conv2d(32, 32, kernel_size=(4,4), stride=1, padding=0))\n",
    "model.add_module('batchnorm_5', nn.BatchNorm2d(32))\n",
    "model.add_module('dropout_4', nn.Dropout2d(p=0.1, inplace=False))\n",
    "model.add_module(\"relu_5\", nn.ReLU())\n",
    "model.add_module(\"maxpool_5\", nn.MaxPool2d(kernel_size=2))\n",
    "\n",
    "\n",
    "\n",
    "\n",
    "model.add_module(\"flat\", Flatten())\n",
    "\n",
    "model.add_module(\"fc1\", nn.Linear(288, 128))\n",
    "model.add_module(\"relu_6\", nn.ReLU())\n",
    "model.add_module(\"fc2\", nn.Linear(128, 1))\n",
    "model.add_module(\"sigmoid\", nn.Sigmoid())\n",
    "\n",
    "model.cuda(0)"
   ]
  },
  {
   "cell_type": "code",
   "execution_count": null,
   "metadata": {
    "collapsed": true
   },
   "outputs": [],
   "source": []
  },
  {
   "cell_type": "code",
   "execution_count": null,
   "metadata": {
    "collapsed": true
   },
   "outputs": [],
   "source": []
  },
  {
   "cell_type": "code",
   "execution_count": 16,
   "metadata": {},
   "outputs": [
    {
     "data": {
      "text/plain": [
       "Sequential (\n",
       "  (conv_1): Conv2d(3, 128, kernel_size=(4, 4), stride=(1, 1))\n",
       "  (batchnorm_1): BatchNorm2d(128, eps=1e-05, momentum=0.1, affine=True)\n",
       "  (dropout_1): Dropout2d (p=0.1)\n",
       "  (relu_1): ReLU ()\n",
       "  (maxpool_1): MaxPool2d (size=(2, 2), stride=(2, 2), dilation=(1, 1))\n",
       "  (conv_2): Conv2d(128, 96, kernel_size=(4, 4), stride=(1, 1))\n",
       "  (batchnorm_2): BatchNorm2d(96, eps=1e-05, momentum=0.1, affine=True)\n",
       "  (relu_2): ReLU ()\n",
       "  (conv_3): Conv2d(96, 64, kernel_size=(4, 4), stride=(1, 1))\n",
       "  (batchnorm_3): BatchNorm2d(64, eps=1e-05, momentum=0.1, affine=True)\n",
       "  (dropout_3): Dropout2d (p=0.1)\n",
       "  (relu_3): ReLU ()\n",
       "  (maxpool_3): MaxPool2d (size=(2, 2), stride=(2, 2), dilation=(1, 1))\n",
       "  (conv_4): Conv2d(64, 32, kernel_size=(4, 4), stride=(1, 1))\n",
       "  (batchnorm_4): BatchNorm2d(32, eps=1e-05, momentum=0.1, affine=True)\n",
       "  (relu_4): ReLU ()\n",
       "  (conv_5): Conv2d(32, 32, kernel_size=(4, 4), stride=(1, 1))\n",
       "  (batchnorm_5): BatchNorm2d(32, eps=1e-05, momentum=0.1, affine=True)\n",
       "  (dropout_4): Dropout2d (p=0.1)\n",
       "  (relu_5): ReLU ()\n",
       "  (maxpool_5): MaxPool2d (size=(2, 2), stride=(2, 2), dilation=(1, 1))\n",
       "  (flat): Flatten (\n",
       "  )\n",
       "  (fc1): Linear (288 -> 128)\n",
       "  (relu_6): ReLU ()\n",
       "  (fc2): Linear (128 -> 1)\n",
       "  (sigmoid): Sigmoid ()\n",
       ")"
      ]
     },
     "execution_count": 16,
     "metadata": {},
     "output_type": "execute_result"
    }
   ],
   "source": [
    "model = torch.nn.Sequential()\n",
    "#model.add_module(\"maxpool_11\", torch.nn.MaxPool2d(kernel_size=2))\n",
    "model.add_module('conv_1', nn.Conv2d(3, 128, kernel_size=(4,4), stride=1, padding=0))\n",
    "model.add_module('batchnorm_1', nn.BatchNorm2d(128))\n",
    "model.add_module('dropout_1', nn.Dropout2d(p=0.1, inplace=False))\n",
    "model.add_module(\"relu_1\", nn.ReLU())\n",
    "model.add_module(\"maxpool_1\", nn.MaxPool2d(kernel_size=2))\n",
    "\n",
    "model.add_module('conv_2', nn.Conv2d(128, 96, kernel_size=(4,4), stride=1, padding=0))\n",
    "model.add_module('batchnorm_2', nn.BatchNorm2d(96))\n",
    "#model.add_module('dropout_2', nn.Dropout2d(p=0.1, inplace=False))\n",
    "model.add_module(\"relu_2\", nn.ReLU())\n",
    "#model.add_module(\"maxpool_2\", nn.MaxPool2d(kernel_size=2))\n",
    "\n",
    "model.add_module('conv_3', nn.Conv2d(96, 64, kernel_size=(4,4), stride=1, padding=0))\n",
    "model.add_module('batchnorm_3', nn.BatchNorm2d(64))\n",
    "model.add_module('dropout_3', nn.Dropout2d(p=0.1, inplace=False))\n",
    "model.add_module(\"relu_3\", nn.ReLU())\n",
    "model.add_module(\"maxpool_3\", nn.MaxPool2d(kernel_size=2))\n",
    "\n",
    "model.add_module('conv_4', nn.Conv2d(64, 32, kernel_size=(4,4), stride=1, padding=0))\n",
    "model.add_module('batchnorm_4', nn.BatchNorm2d(32))\n",
    "#model.add_module('dropout_4', nn.Dropout2d(p=0.1, inplace=False))\n",
    "model.add_module(\"relu_4\", nn.ReLU())\n",
    "#model.add_module(\"maxpool_4\", nn.MaxPool2d(kernel_size=2))\n",
    "\n",
    "model.add_module('conv_5', nn.Conv2d(32, 32, kernel_size=(4,4), stride=1, padding=0))\n",
    "model.add_module('batchnorm_5', nn.BatchNorm2d(32))\n",
    "model.add_module('dropout_4', nn.Dropout2d(p=0.1, inplace=False))\n",
    "model.add_module(\"relu_5\", nn.ReLU())\n",
    "model.add_module(\"maxpool_5\", nn.MaxPool2d(kernel_size=2))\n",
    "\n",
    "\n",
    "\n",
    "\n",
    "model.add_module(\"flat\", Flatten())\n",
    "\n",
    "model.add_module(\"fc1\", nn.Linear(288, 128))\n",
    "model.add_module(\"relu_6\", nn.ReLU())\n",
    "model.add_module(\"fc2\", nn.Linear(128, 1))\n",
    "model.add_module(\"sigmoid\", nn.Sigmoid())\n",
    "\n",
    "model.cuda(0)"
   ]
  },
  {
   "cell_type": "code",
   "execution_count": 70,
   "metadata": {},
   "outputs": [
    {
     "data": {
      "text/plain": [
       "Sequential (\n",
       "  (conv_1): Conv2d(3, 256, kernel_size=(4, 4), stride=(1, 1))\n",
       "  (batchnorm_1): BatchNorm2d(256, eps=1e-05, momentum=0.1, affine=True)\n",
       "  (dropout_1): Dropout2d (p=0.1)\n",
       "  (relu_1): ReLU ()\n",
       "  (maxpool_1): MaxPool2d (size=(2, 2), stride=(2, 2), dilation=(1, 1))\n",
       "  (conv_2): Conv2d(256, 128, kernel_size=(4, 4), stride=(1, 1))\n",
       "  (batchnorm_2): BatchNorm2d(128, eps=1e-05, momentum=0.1, affine=True)\n",
       "  (relu_2): ReLU ()\n",
       "  (conv_3): Conv2d(128, 96, kernel_size=(4, 4), stride=(1, 1))\n",
       "  (batchnorm_3): BatchNorm2d(96, eps=1e-05, momentum=0.1, affine=True)\n",
       "  (dropout_3): Dropout2d (p=0.1)\n",
       "  (relu_3): ReLU ()\n",
       "  (maxpool_3): MaxPool2d (size=(2, 2), stride=(2, 2), dilation=(1, 1))\n",
       "  (conv_4): Conv2d(96, 64, kernel_size=(4, 4), stride=(1, 1))\n",
       "  (batchnorm_4): BatchNorm2d(64, eps=1e-05, momentum=0.1, affine=True)\n",
       "  (relu_4): ReLU ()\n",
       "  (conv_5): Conv2d(64, 64, kernel_size=(4, 4), stride=(1, 1))\n",
       "  (batchnorm_5): BatchNorm2d(64, eps=1e-05, momentum=0.1, affine=True)\n",
       "  (dropout_5): Dropout2d (p=0.1)\n",
       "  (relu_5): ReLU ()\n",
       "  (maxpool_5): MaxPool2d (size=(2, 2), stride=(2, 2), dilation=(1, 1))\n",
       "  (flat): Flatten (\n",
       "  )\n",
       "  (fc1): Linear (576 -> 128)\n",
       "  (relu_6): ReLU ()\n",
       "  (fc2): Linear (128 -> 1)\n",
       "  (sigmoid): Sigmoid ()\n",
       ")"
      ]
     },
     "execution_count": 70,
     "metadata": {},
     "output_type": "execute_result"
    }
   ],
   "source": [
    "model = torch.nn.Sequential()\n",
    "#model.add_module(\"maxpool_11\", torch.nn.MaxPool2d(kernel_size=2))\n",
    "model.add_module('conv_1', nn.Conv2d(3, 256, kernel_size=(4,4), stride=1, padding=0))\n",
    "model.add_module('batchnorm_1', nn.BatchNorm2d(256))\n",
    "model.add_module('dropout_1', nn.Dropout2d(p=0.1, inplace=False))\n",
    "model.add_module(\"relu_1\", nn.ReLU())\n",
    "model.add_module(\"maxpool_1\", nn.MaxPool2d(kernel_size=2))\n",
    "\n",
    "model.add_module('conv_2', nn.Conv2d(256, 128, kernel_size=(4,4), stride=1, padding=0))\n",
    "model.add_module('batchnorm_2', nn.BatchNorm2d(128))\n",
    "#model.add_module('dropout_2', nn.Dropout2d(p=0.1, inplace=False))\n",
    "model.add_module(\"relu_2\", nn.ReLU())\n",
    "#model.add_module(\"maxpool_2\", nn.MaxPool2d(kernel_size=2))\n",
    "\n",
    "model.add_module('conv_3', nn.Conv2d(128, 96, kernel_size=(4,4), stride=1, padding=0))\n",
    "model.add_module('batchnorm_3', nn.BatchNorm2d(96))\n",
    "model.add_module('dropout_3', nn.Dropout2d(p=0.1, inplace=False))\n",
    "model.add_module(\"relu_3\", nn.ReLU())\n",
    "model.add_module(\"maxpool_3\", nn.MaxPool2d(kernel_size=2))\n",
    "\n",
    "model.add_module('conv_4', nn.Conv2d(96, 64, kernel_size=(4,4), stride=1, padding=0))\n",
    "model.add_module('batchnorm_4', nn.BatchNorm2d(64))\n",
    "#model.add_module('dropout_4', nn.Dropout2d(p=0.1, inplace=False))\n",
    "model.add_module(\"relu_4\", nn.ReLU())\n",
    "#model.add_module(\"maxpool_4\", nn.MaxPool2d(kernel_size=2))\n",
    "\n",
    "model.add_module('conv_5', nn.Conv2d(64, 64, kernel_size=(4,4), stride=1, padding=0))\n",
    "model.add_module('batchnorm_5', nn.BatchNorm2d(64))\n",
    "model.add_module('dropout_5', nn.Dropout2d(p=0.1, inplace=False))\n",
    "model.add_module(\"relu_5\", nn.ReLU())\n",
    "model.add_module(\"maxpool_5\", nn.MaxPool2d(kernel_size=2))\n",
    "\n",
    "\n",
    "\n",
    "\n",
    "model.add_module(\"flat\", Flatten())\n",
    "\n",
    "model.add_module(\"fc1\", nn.Linear(576, 128))\n",
    "model.add_module(\"relu_6\", nn.ReLU())\n",
    "model.add_module(\"fc2\", nn.Linear(128, 1))\n",
    "model.add_module(\"sigmoid\", nn.Sigmoid())\n",
    "\n",
    "model.cuda(0)"
   ]
  },
  {
   "cell_type": "code",
   "execution_count": null,
   "metadata": {
    "collapsed": true
   },
   "outputs": [],
   "source": []
  },
  {
   "cell_type": "code",
   "execution_count": 13,
   "metadata": {},
   "outputs": [
    {
     "data": {
      "text/plain": [
       "Sequential (\n",
       "  (conv_1): Conv2d(3, 128, kernel_size=(5, 5), stride=(1, 1))\n",
       "  (batchnorm_1): BatchNorm2d(128, eps=1e-05, momentum=0.1, affine=True)\n",
       "  (dropout_1): Dropout2d (p=0.1)\n",
       "  (relu_1): ReLU ()\n",
       "  (maxpool_1): MaxPool2d (size=(2, 2), stride=(2, 2), dilation=(1, 1))\n",
       "  (conv_2): Conv2d(128, 96, kernel_size=(5, 5), stride=(1, 1))\n",
       "  (batchnorm_2): BatchNorm2d(96, eps=1e-05, momentum=0.1, affine=True)\n",
       "  (relu_2): ReLU ()\n",
       "  (conv_3): Conv2d(96, 64, kernel_size=(5, 5), stride=(1, 1))\n",
       "  (batchnorm_3): BatchNorm2d(64, eps=1e-05, momentum=0.1, affine=True)\n",
       "  (dropout_3): Dropout2d (p=0.1)\n",
       "  (relu_3): ReLU ()\n",
       "  (maxpool_3): MaxPool2d (size=(2, 2), stride=(2, 2), dilation=(1, 1))\n",
       "  (conv_4): Conv2d(64, 32, kernel_size=(5, 5), stride=(1, 1))\n",
       "  (batchnorm_4): BatchNorm2d(32, eps=1e-05, momentum=0.1, affine=True)\n",
       "  (relu_4): ReLU ()\n",
       "  (conv_5): Conv2d(32, 32, kernel_size=(5, 5), stride=(1, 1))\n",
       "  (batchnorm_5): BatchNorm2d(32, eps=1e-05, momentum=0.1, affine=True)\n",
       "  (dropout_4): Dropout2d (p=0.1)\n",
       "  (relu_5): ReLU ()\n",
       "  (flat): Flatten (\n",
       "  )\n",
       "  (fc1): Linear (288 -> 128)\n",
       "  (relu_6): ReLU ()\n",
       "  (fc2): Linear (128 -> 1)\n",
       "  (sigmoid): Sigmoid ()\n",
       ")"
      ]
     },
     "execution_count": 13,
     "metadata": {},
     "output_type": "execute_result"
    }
   ],
   "source": [
    "model = torch.nn.Sequential()\n",
    "#model.add_module(\"maxpool_11\", torch.nn.MaxPool2d(kernel_size=2))\n",
    "model.add_module('conv_1', nn.Conv2d(3, 128, kernel_size=(5,5), stride=1, padding=0))\n",
    "model.add_module('batchnorm_1', nn.BatchNorm2d(128))\n",
    "model.add_module('dropout_1', nn.Dropout2d(p=0.1, inplace=False))\n",
    "model.add_module(\"relu_1\", nn.ReLU())\n",
    "model.add_module(\"maxpool_1\", nn.MaxPool2d(kernel_size=2))\n",
    "\n",
    "model.add_module('conv_2', nn.Conv2d(128, 96, kernel_size=(5,5), stride=1, padding=0))\n",
    "model.add_module('batchnorm_2', nn.BatchNorm2d(96))\n",
    "#model.add_module('dropout_2', nn.Dropout2d(p=0.1, inplace=False))\n",
    "model.add_module(\"relu_2\", nn.ReLU())\n",
    "#model.add_module(\"maxpool_2\", nn.MaxPool2d(kernel_size=2))\n",
    "\n",
    "model.add_module('conv_3', nn.Conv2d(96, 64, kernel_size=(5,5), stride=1, padding=0))\n",
    "model.add_module('batchnorm_3', nn.BatchNorm2d(64))\n",
    "model.add_module('dropout_3', nn.Dropout2d(p=0.1, inplace=False))\n",
    "model.add_module(\"relu_3\", nn.ReLU())\n",
    "model.add_module(\"maxpool_3\", nn.MaxPool2d(kernel_size=2))\n",
    "\n",
    "model.add_module('conv_4', nn.Conv2d(64, 32, kernel_size=(5,5), stride=1, padding=0))\n",
    "model.add_module('batchnorm_4', nn.BatchNorm2d(32))\n",
    "#model.add_module('dropout_4', nn.Dropout2d(p=0.1, inplace=False))\n",
    "model.add_module(\"relu_4\", nn.ReLU())\n",
    "#model.add_module(\"maxpool_4\", nn.MaxPool2d(kernel_size=2))\n",
    "\n",
    "model.add_module('conv_5', nn.Conv2d(32, 32, kernel_size=(5,5), stride=1, padding=0))\n",
    "model.add_module('batchnorm_5', nn.BatchNorm2d(32))\n",
    "model.add_module('dropout_4', nn.Dropout2d(p=0.1, inplace=False))\n",
    "model.add_module(\"relu_5\", nn.ReLU())\n",
    "#model.add_module(\"maxpool_5\", nn.MaxPool2d(kernel_size=2))\n",
    "\n",
    "\n",
    "\n",
    "\n",
    "model.add_module(\"flat\", Flatten())\n",
    "\n",
    "model.add_module(\"fc1\", nn.Linear(288, 128))\n",
    "model.add_module(\"relu_6\", nn.ReLU())\n",
    "model.add_module(\"fc2\", nn.Linear(128, 1))\n",
    "model.add_module(\"sigmoid\", nn.Sigmoid())\n",
    "\n",
    "model.cuda(0)"
   ]
  },
  {
   "cell_type": "code",
   "execution_count": null,
   "metadata": {
    "collapsed": true
   },
   "outputs": [],
   "source": []
  },
  {
   "cell_type": "code",
   "execution_count": null,
   "metadata": {
    "collapsed": true
   },
   "outputs": [],
   "source": []
  },
  {
   "cell_type": "code",
   "execution_count": null,
   "metadata": {
    "collapsed": true
   },
   "outputs": [],
   "source": []
  },
  {
   "cell_type": "code",
   "execution_count": null,
   "metadata": {
    "collapsed": true
   },
   "outputs": [],
   "source": []
  },
  {
   "cell_type": "code",
   "execution_count": null,
   "metadata": {
    "collapsed": true
   },
   "outputs": [],
   "source": []
  },
  {
   "cell_type": "code",
   "execution_count": null,
   "metadata": {
    "collapsed": true
   },
   "outputs": [],
   "source": []
  },
  {
   "cell_type": "code",
   "execution_count": null,
   "metadata": {
    "collapsed": true
   },
   "outputs": [],
   "source": [
    "model = torch.nn.Sequential()\n",
    "#model.add_module(\"maxpool_11\", torch.nn.MaxPool2d(kernel_size=2))\n",
    "model.add_module('conv_1', nn.Conv2d(3, 128, kernel_size=(5,5), stride=1, padding=0))\n",
    "model.add_module('batchnorm_1', nn.BatchNorm2d(128))\n",
    "#model.add_module('dropout_1', nn.Dropout2d(p=0.1, inplace=False))\n",
    "model.add_module(\"maxpool_1\", nn.MaxPool2d(kernel_size=2))\n",
    "model.add_module(\"relu_1\", nn.ReLU())\n",
    "\n",
    "\n",
    "model.add_module('conv_2', nn.Conv2d(128, 96, kernel_size=(5,5), stride=1, padding=0))\n",
    "model.add_module('batchnorm_2', nn.BatchNorm2d(96))\n",
    "#model.add_module('dropout_2', nn.Dropout2d(p=0.1, inplace=False))\n",
    "model.add_module(\"relu_2\", nn.ReLU())\n",
    "#model.add_module(\"maxpool_2\", nn.MaxPool2d(kernel_size=2))\n",
    "\n",
    "model.add_module('conv_3', nn.Conv2d(96, 64, kernel_size=(5,5), stride=1, padding=0))\n",
    "model.add_module('batchnorm_3', nn.BatchNorm2d(64))\n",
    "model.add_module('dropout_3', nn.Dropout2d(p=0.1, inplace=False))\n",
    "model.add_module(\"maxpool_3\", nn.MaxPool2d(kernel_size=2))\n",
    "model.add_module(\"relu_3\", nn.ReLU())\n",
    "\n",
    "\n",
    "model.add_module('conv_4', nn.Conv2d(64, 48, kernel_size=(5,5), stride=1, padding=0))\n",
    "model.add_module('batchnorm_4', nn.BatchNorm2d(48))\n",
    "#model.add_module('dropout_4', nn.Dropout2d(p=0.1, inplace=False))\n",
    "model.add_module(\"relu_4\", nn.ReLU())\n",
    "#model.add_module(\"maxpool_4\", nn.MaxPool2d(kernel_size=2))\n",
    "\n",
    "model.add_module('conv_5', nn.Conv2d(48, 48, kernel_size=(5,5), stride=1, padding=0))\n",
    "model.add_module('batchnorm_5', nn.BatchNorm2d(48))\n",
    "#model.add_module('dropout_4', nn.Dropout2d(p=0.1, inplace=False))\n",
    "model.add_module(\"relu_5\", nn.ReLU())\n",
    "#model.add_module(\"maxpool_5\", nn.MaxPool2d(kernel_size=2))\n",
    "\n",
    "\n",
    "\n",
    "\n",
    "model.add_module(\"flat\", Flatten())\n",
    "\n",
    "model.add_module(\"fc1\", nn.Linear(432, 128))\n",
    "model.add_module(\"relu_6\", nn.Tanh())\n",
    "model.add_module(\"fc2\", nn.Linear(128, 1))\n",
    "model.add_module(\"sigmoid\", nn.Sigmoid())\n",
    "\n",
    "model.cuda(0)"
   ]
  },
  {
   "cell_type": "code",
   "execution_count": null,
   "metadata": {
    "collapsed": true
   },
   "outputs": [],
   "source": []
  },
  {
   "cell_type": "code",
   "execution_count": null,
   "metadata": {
    "collapsed": true
   },
   "outputs": [],
   "source": []
  },
  {
   "cell_type": "code",
   "execution_count": null,
   "metadata": {
    "collapsed": true
   },
   "outputs": [],
   "source": []
  },
  {
   "cell_type": "code",
   "execution_count": null,
   "metadata": {
    "collapsed": true
   },
   "outputs": [],
   "source": []
  },
  {
   "cell_type": "code",
   "execution_count": null,
   "metadata": {
    "collapsed": true
   },
   "outputs": [],
   "source": [
    "model = torch.nn.Sequential()\n",
    "#model.add_module(\"maxpool_11\", torch.nn.MaxPool2d(kernel_size=2))\n",
    "model.add_module('conv_1', nn.Conv2d(3, 64, kernel_size=(4,4), stride=1, padding=0))\n",
    "model.add_module('batchnorm_1', nn.BatchNorm2d(64))\n",
    "model.add_module('dropout_1', nn.Dropout2d(p=0.1, inplace=False))\n",
    "model.add_module(\"maxpool_1\", nn.MaxPool2d(kernel_size=2))\n",
    "model.add_module(\"relu_1\", nn.ReLU())\n",
    "\n",
    "\n",
    "model.add_module('conv_2', nn.Conv2d(64, 64, kernel_size=(4,4), stride=1, padding=0))\n",
    "model.add_module('batchnorm_2', nn.BatchNorm2d(64))\n",
    "#model.add_module('dropout_2', nn.Dropout2d(p=0.1, inplace=False))\n",
    "model.add_module(\"relu_2\", nn.ReLU())\n",
    "#model.add_module(\"maxpool_2\", nn.MaxPool2d(kernel_size=2))\n",
    "\n",
    "model.add_module('conv_3', nn.Conv2d(64, 32, kernel_size=(4,4), stride=1, padding=0))\n",
    "model.add_module('batchnorm_3', nn.BatchNorm2d(32))\n",
    "model.add_module('dropout_3', nn.Dropout2d(p=0.1, inplace=False))\n",
    "model.add_module(\"maxpool_3\", nn.MaxPool2d(kernel_size=2))\n",
    "model.add_module(\"relu_3\", nn.ReLU())\n",
    "\n",
    "\n",
    "model.add_module('conv_5', nn.Conv2d(32, 32, kernel_size=(4,4), stride=1, padding=0))\n",
    "model.add_module('batchnorm_5', nn.BatchNorm2d(32))\n",
    "model.add_module('dropout_4', nn.Dropout2d(p=0.1, inplace=False))\n",
    "model.add_module(\"maxpool_5\", nn.MaxPool2d(kernel_size=4))\n",
    "model.add_module(\"relu_5\", nn.ReLU())\n",
    "\n",
    "\n",
    "\n",
    "\n",
    "\n",
    "model.add_module(\"flat\", Flatten())\n",
    "\n",
    "model.add_module(\"fc1\", nn.Linear(128, 128))\n",
    "model.add_module(\"relu_6\", nn.ReLU())\n",
    "model.add_module(\"fc2\", nn.Linear(128, 1))\n",
    "model.add_module(\"sigmoid\", nn.Sigmoid())\n",
    "\n",
    "model.cuda(0)"
   ]
  },
  {
   "cell_type": "code",
   "execution_count": null,
   "metadata": {
    "collapsed": true
   },
   "outputs": [],
   "source": []
  },
  {
   "cell_type": "code",
   "execution_count": null,
   "metadata": {
    "collapsed": true
   },
   "outputs": [],
   "source": []
  },
  {
   "cell_type": "code",
   "execution_count": null,
   "metadata": {
    "collapsed": true
   },
   "outputs": [],
   "source": [
    "model = torch.nn.Sequential()\n",
    "#model.add_module(\"maxpool_11\", torch.nn.MaxPool2d(kernel_size=2))\n",
    "model.add_module('conv_1', nn.Conv2d(3, 256, kernel_size=(5,5), stride=1, padding=0))\n",
    "model.add_module('batchnorm_1', nn.BatchNorm2d(256))\n",
    "model.add_module('dropout_1', nn.Dropout2d(p=0.1, inplace=False))\n",
    "model.add_module(\"maxpool_1\", nn.MaxPool2d(kernel_size=2))\n",
    "model.add_module(\"relu_1\", nn.ReLU())\n",
    "\n",
    "model.add_module('conv_2', nn.Conv2d(256, 192, kernel_size=(5,5), stride=1, padding=0))\n",
    "model.add_module('batchnorm_2', nn.BatchNorm2d(192))\n",
    "#model.add_module('dropout_2', nn.Dropout2d(p=0.1, inplace=False))\n",
    "model.add_module(\"relu_2\", nn.ReLU())\n",
    "#model.add_module(\"maxpool_2\", nn.MaxPool2d(kernel_size=2))\n",
    "\n",
    "model.add_module('conv_3', nn.Conv2d(192, 128, kernel_size=(5,5), stride=1, padding=0))\n",
    "model.add_module('batchnorm_3', nn.BatchNorm2d(128))\n",
    "model.add_module('dropout_3', nn.Dropout2d(p=0.1, inplace=False))\n",
    "model.add_module(\"maxpool_3\", nn.MaxPool2d(kernel_size=2))\n",
    "model.add_module(\"relu_3\", nn.ReLU())\n",
    "\n",
    "model.add_module('conv_4', nn.Conv2d(128, 64, kernel_size=(4,4), stride=1, padding=0))\n",
    "model.add_module('batchnorm_4', nn.BatchNorm2d(64))\n",
    "#model.add_module('dropout_4', nn.Dropout2d(p=0.1, inplace=False))\n",
    "model.add_module(\"relu_4\", nn.ReLU())\n",
    "#model.add_module(\"maxpool_4\", nn.MaxPool2d(kernel_size=2))\n",
    "\n",
    "model.add_module('conv_5', nn.Conv2d(64, 64, kernel_size=(4,4), stride=1, padding=0))\n",
    "model.add_module('batchnorm_5', nn.BatchNorm2d(64))\n",
    "model.add_module('dropout_5', nn.Dropout2d(p=0.1, inplace=False))\n",
    "model.add_module(\"maxpool_5\", nn.MaxPool2d(kernel_size=2))\n",
    "model.add_module(\"relu_5\", nn.ReLU())\n",
    "\n",
    "\n",
    "\n",
    "\n",
    "\n",
    "model.add_module(\"flat\", Flatten())\n",
    "\n",
    "model.add_module(\"fc1\", nn.Linear(256, 128))\n",
    "model.add_module(\"relu_6\", nn.ReLU())\n",
    "model.add_module(\"fc2\", nn.Linear(128, 1))\n",
    "model.add_module(\"sigmoid\", nn.Sigmoid())\n",
    "\n",
    "model.cuda(0)"
   ]
  },
  {
   "cell_type": "markdown",
   "metadata": {},
   "source": [
    "### Training on minibatches\n",
    "\n",
    "Just like before, we train our model on small random minibatches of data with adaptive optimization method of your choice."
   ]
  },
  {
   "cell_type": "code",
   "execution_count": 14,
   "metadata": {
    "collapsed": true
   },
   "outputs": [],
   "source": [
    "# An auxilary function that returns mini-batches for neural network training\n",
    "from tqdm import trange\n",
    "def iterate_minibatches(X, y, batchsize, shuffle=False):\n",
    "    indices = np.arange(len(X))\n",
    "    if shuffle: \n",
    "        indices = np.random.permutation(indices)\n",
    "    for start in trange(0, len(indices), batchsize):\n",
    "        ix = indices[start: start + batchsize]\n",
    "        yield X[ix], y[ix]"
   ]
  },
  {
   "cell_type": "markdown",
   "metadata": {},
   "source": [
    "### Choose you optimiser"
   ]
  },
  {
   "cell_type": "code",
   "execution_count": 15,
   "metadata": {
    "collapsed": true
   },
   "outputs": [],
   "source": [
    "#opt = torch.optim.SGD(model.parameters(), lr=0.005)\n",
    "opt = torch.optim.Adam(model.parameters(), lr=0.01)"
   ]
  },
  {
   "cell_type": "markdown",
   "metadata": {},
   "source": [
    "## And set up batch_size and number of epochs"
   ]
  },
  {
   "cell_type": "code",
   "execution_count": 16,
   "metadata": {
    "collapsed": true
   },
   "outputs": [],
   "source": [
    "import time\n",
    "from pandas import ewma\n",
    "from IPython import display\n",
    "\n",
    "num_epochs = 4 #amount of passes through the data\n",
    "batch_size = 209 #number of samples processed at each function call\n",
    "auc_history = []"
   ]
  },
  {
   "cell_type": "code",
   "execution_count": 20,
   "metadata": {
    "collapsed": true
   },
   "outputs": [],
   "source": [
    "num_epochs = 1"
   ]
  },
  {
   "cell_type": "code",
   "execution_count": 21,
   "metadata": {},
   "outputs": [
    {
     "name": "stderr",
     "output_type": "stream",
     "text": [
      "/opt/conda/anaconda3/lib/python3.6/site-packages/ipykernel_launcher.py:46: FutureWarning: pd.ewm_mean is deprecated for ndarrays and will be removed in a future version\n"
     ]
    },
    {
     "data": {
      "image/png": "[encoded data removed]",
      "text/plain": [
       "<matplotlib.figure.Figure at 0x7fd474381a58>"
      ]
     },
     "metadata": {},
     "output_type": "display_data"
    },
    {
     "name": "stdout",
     "output_type": "stream",
     "text": [
      "Epoch 1 of 1 took 1681.332s\n",
      "  training loss (in-iteration):\t\t0.030592\n",
      "  train accuracy:\t\t98.90 %\n",
      "  validation accuracy:\t\t99.18 %\n",
      "  validation roc_auc:\t\t99.96 %\n"
     ]
    }
   ],
   "source": [
    "for epoch in range(num_epochs):\n",
    "    # In each epoch, we do a full pass over the training data:\n",
    "    \n",
    "    train_err = train_acc = 0\n",
    "    start_time = time.time()\n",
    "    \n",
    "    # This is you have see already - traning loop\n",
    "    model.train(True) # enable dropout / batch_norm training behavior\n",
    "    for X_batch, y_batch in iterate_minibatches(X_train, y_train, batch_size, shuffle=True):\n",
    "        X_batch = Variable(torch.FloatTensor(X_batch)).cuda(0)\n",
    "        y_batch = Variable(torch.FloatTensor(y_batch)).cuda(0)\n",
    "        \n",
    "        y_predicted = model(X_batch)\n",
    "        loss = torch.nn.functional.binary_cross_entropy(y_predicted, y_batch).mean()\n",
    "        \n",
    "        loss.backward()\n",
    "        opt.step()\n",
    "        opt.zero_grad()\n",
    "        \n",
    "        train_err += loss.data.cpu().numpy()[0]\n",
    "        train_acc += torch.eq(torch.round(y_predicted), y_batch).data.cpu().numpy().mean()\n",
    "\n",
    "    # And a full pass over the validation data:\n",
    "    y_pred = []\n",
    "    \n",
    "    model.train(False)\n",
    "    for X_batch, y_batch in iterate_minibatches(X_val, y_val, batch_size, shuffle=False):\n",
    "        X_batch = Variable(torch.FloatTensor(X_batch)).cuda(0)\n",
    "        y_pred.extend(model(X_batch).data.cpu().numpy())\n",
    "        \n",
    "    y_pred = np.asarray(y_pred)\n",
    "    # Save the metrics values   \n",
    "    val_acc = accuracy_score(y_val, y_pred > 0.5)\n",
    "    val_roc_auc = roc_auc_score(y_val, y_pred)\n",
    "    auc_history.append(val_roc_auc)\n",
    "\n",
    "    \n",
    "    \n",
    "    # Visualize\n",
    "    display.clear_output(wait=True)\n",
    "    plt.figure(figsize=(8, 6))\n",
    "    plt.title(\"Validation AUC\")\n",
    "    plt.xlabel(\"#iteration\")\n",
    "    plt.ylabel(\"AUC\")\n",
    "    plt.plot(auc_history, 'b',label='val auc')\n",
    "    plt.plot(ewma(np.array(auc_history), span=10),'r',label='ewm val auc')\n",
    "    plt.legend(loc='best')\n",
    "    plt.grid()\n",
    "    plt.show()\n",
    "    \n",
    "    # Then we print the results for this epoch:\n",
    "    print(\"Epoch {} of {} took {:.3f}s\".format(\n",
    "        epoch + 1, num_epochs, time.time() - start_time))\n",
    "\n",
    "    train_batches = np.ceil(len(X_train) // batch_size)\n",
    "    print(\"  training loss (in-iteration):\\t\\t{:.6f}\".format(train_err / train_batches))\n",
    "    print(\"  train accuracy:\\t\\t{:.2f} %\".format(train_acc / train_batches * 100))\n",
    "    print(\"  validation accuracy:\\t\\t{:.2f} %\".format(val_acc * 100))\n",
    "    print(\"  validation roc_auc:\\t\\t{:.2f} %\".format(val_roc_auc * 100))"
   ]
  },
  {
   "cell_type": "markdown",
   "metadata": {},
   "source": [
    "# Read test data, feed it to neural network, and save the output in kaggle fromat."
   ]
  },
  {
   "cell_type": "code",
   "execution_count": 30,
   "metadata": {},
   "outputs": [
    {
     "name": "stdout",
     "output_type": "stream",
     "text": [
      "99.9635325074\n"
     ]
    }
   ],
   "source": [
    "print(val_roc_auc * 100)"
   ]
  },
  {
   "cell_type": "code",
   "execution_count": 39,
   "metadata": {
    "collapsed": true
   },
   "outputs": [],
   "source": [
    "X_train = None\n",
    "y_train = None"
   ]
  },
  {
   "cell_type": "code",
   "execution_count": 40,
   "metadata": {
    "collapsed": true
   },
   "outputs": [],
   "source": [
    "X_test, non_var = read_data(test, is_train=False)\n",
    "dummy_y = np.array(range(len(X_test)))"
   ]
  },
  {
   "cell_type": "code",
   "execution_count": 41,
   "metadata": {},
   "outputs": [
    {
     "name": "stderr",
     "output_type": "stream",
     "text": [
      "100%|██████████| 658/658 [10:47<00:00,  1.02it/s]\n"
     ]
    }
   ],
   "source": [
    "model.train(False)\n",
    "y_pred = []\n",
    "for X_batch, y_batch in iterate_minibatches(X_test, dummy_y, batch_size, shuffle=False):\n",
    "    X_batch = Variable(torch.FloatTensor(X_batch)).cuda(0)\n",
    "    y_pred.extend(model(X_batch).data.cpu().numpy())\n",
    "\n",
    "y_predicted = np.asarray(y_pred)"
   ]
  },
  {
   "cell_type": "markdown",
   "metadata": {},
   "source": [
    "Saving you results to file."
   ]
  },
  {
   "cell_type": "code",
   "execution_count": 42,
   "metadata": {
    "collapsed": true
   },
   "outputs": [],
   "source": [
    "import pandas as pd\n",
    "from IPython.display import FileLink\n",
    "\n",
    "def save_results(filename, y_ans):\n",
    "    answer_dataframe = pd.DataFrame(columns=[\"ID\", \"ans\"])\n",
    "    answer_dataframe['ID'] = range(0,len(y_ans))\n",
    "    answer_dataframe['ans'] = y_ans\n",
    "    answer_dataframe.to_csv('{}'.format(filename), index=False)\n",
    "    return FileLink('{}'.format(filename))"
   ]
  },
  {
   "cell_type": "code",
   "execution_count": 43,
   "metadata": {},
   "outputs": [
    {
     "data": {
      "text/html": [
       "<a href='baseline06.csv' target='_blank'>baseline06.csv</a><br>"
      ],
      "text/plain": [
       "/home/user28/Hossein/MLatImperial2018/06_lab/baseline06.csv"
      ]
     },
     "execution_count": 43,
     "metadata": {},
     "output_type": "execute_result"
    }
   ],
   "source": [
    "save_results(\"baseline06.csv\", y_predicted)"
   ]
  },
  {
   "cell_type": "code",
   "execution_count": null,
   "metadata": {
    "collapsed": true
   },
   "outputs": [],
   "source": []
  }
 ],
 "metadata": {
  "kernelspec": {
   "display_name": "Python 2",
   "language": "python",
   "name": "python2"
  },
  "language_info": {
   "codemirror_mode": {
    "name": "ipython",
    "version": 2
   },
   "file_extension": ".py",
   "mimetype": "text/x-python",
   "name": "python",
   "nbconvert_exporter": "python",
   "pygments_lexer": "ipython2",
   "version": "2.7.13"
  }
 },
 "nbformat": 4,
 "nbformat_minor": 2
}
